{
 "cells": [
  {
   "cell_type": "markdown",
   "metadata": {},
   "source": [
    "**Avant de débuter ce TP** :\n",
    "\n",
    "1. **Changez le type d'exécution sur Google Colab** : `Exécution > Modifiez le type d'exécution > T4 GPU`\n",
    "2. **Installez les paquets ci-dessous** :"
   ]
  },
  {
   "cell_type": "code",
   "execution_count": null,
   "metadata": {},
   "outputs": [],
   "source": [
    "! pip install lightning torchmetrics torchinfo"
   ]
  },
  {
   "cell_type": "markdown",
   "metadata": {},
   "source": [
    "3. Exécutez ce code pour supprimer quelques messages et avertissements éventuellement affichés."
   ]
  },
  {
   "cell_type": "code",
   "execution_count": 1,
   "metadata": {},
   "outputs": [],
   "source": [
    "import logging\n",
    "logging.getLogger(\"lightning\").setLevel(logging.ERROR)\n",
    "logging.getLogger(\"lightning.pytorch.utilities.rank_zero\").setLevel(logging.WARNING)\n",
    "logging.getLogger(\"lightning.pytorch.accelerators.cuda\").setLevel(logging.WARNING)\n",
    "logger = logging.getLogger(\"lightning\")\n",
    "logger.propagate = False\n",
    "\n",
    "import warnings\n",
    "warnings.filterwarnings(\"ignore\", \".*does not have many workers.*\")"
   ]
  },
  {
   "cell_type": "markdown",
   "metadata": {},
   "source": [
    "# Classification d'images par réseau de neurones convolutif\n",
    "\n",
    "## Chargement des données\n",
    "\n",
    "Nous allons travailler sur un jeu de données appelé [EMNIST](https://www.westernsydney.edu.au/icns/resources/reproducible_research3/publication_support_materials2/emnist), et plus spécifiquement sur un sous-jeu de données constitué d'images en nuances de gris de lettres manuscrites.\n",
    "Pour ce faire, nous allons utiliser la classe [`torchvision.datasets.EMNIST`](https://pytorch.org/vision/stable/generated/torchvision.datasets.EMNIST.html) pour télécharger et charger ce jeu de données."
   ]
  },
  {
   "cell_type": "code",
   "execution_count": 2,
   "metadata": {},
   "outputs": [
    {
     "name": "stdout",
     "output_type": "stream",
     "text": [
      "Downloading https://biometrics.nist.gov/cs_links/EMNIST/gzip.zip to data/EMNIST/raw/gzip.zip\n"
     ]
    },
    {
     "name": "stderr",
     "output_type": "stream",
     "text": [
      "100%|████████████████████████| 561753746/561753746 [08:55<00:00, 1048524.89it/s]\n"
     ]
    },
    {
     "name": "stdout",
     "output_type": "stream",
     "text": [
      "Extracting data/EMNIST/raw/gzip.zip to data/EMNIST/raw\n"
     ]
    }
   ],
   "source": [
    "import torch\n",
    "from torchvision.datasets import EMNIST\n",
    "from torchvision.transforms import v2\n",
    "\n",
    "\n",
    "dataset_train = EMNIST(\n",
    "    root='data',\n",
    "    split='letters',\n",
    "    download=True,\n",
    "    train=True,\n",
    "    transform=v2.Compose([v2.ToImage(), v2.ToDtype(torch.float32, scale=True)]),\n",
    "    target_transform=lambda x: x - 1\n",
    ")\n",
    "\n",
    "dataset_val = EMNIST(\n",
    "    root='data',\n",
    "    split='letters',\n",
    "    download=True,\n",
    "    train=False,\n",
    "    transform=v2.Compose([v2.ToImage(), v2.ToDtype(torch.float32, scale=True)]),\n",
    "    target_transform=lambda x: x - 1\n",
    ")"
   ]
  },
  {
   "cell_type": "markdown",
   "metadata": {},
   "source": [
    "### Exercice 1\n",
    "\n",
    "**a)** Calculer la taille des jeux d'entraînement et de validation, c'est-à-dire le nombre d'images dans chacun des deux jeux.\n",
    "\n",
    "**b)** Calculer la taille d'une image, c'est-à-dire la taille d'une image. On prendra pour acquis que toutes les observations ont la même taille (c'est bien le cas, vous n'avez pas à le vérifier)."
   ]
  },
  {
   "cell_type": "code",
   "execution_count": 3,
   "metadata": {},
   "outputs": [
    {
     "name": "stdout",
     "output_type": "stream",
     "text": [
      "Taille du jeu d'entraînement = 124800\n",
      "Taille du jeu de validation = 20800\n",
      "Taille d'une image = torch.Size([1, 28, 28])\n"
     ]
    }
   ],
   "source": [
    "print(f\"Taille du jeu d'entraînement = {len(dataset_train)}\")\n",
    "print(f\"Taille du jeu de validation = {len(dataset_val)}\")\n",
    "print(f\"Taille d'une image = {dataset_train[0][0].size()}\")"
   ]
  },
  {
   "cell_type": "markdown",
   "metadata": {},
   "source": [
    "Il y a 26 classes dans ce jeu de données, correspondant aux 26 lettres de l'alphabet. Néanmoins, le jeu de données mélange les lettres majuscules et minuscules : des images pour les lettres *A* et *a* ont donc le même label.\n",
    "\n",
    "Le code ci-dessous permet d'afficher neuf observations tirées aléatoirement dans le jeu d'entraînement."
   ]
  },
  {
   "cell_type": "code",
   "execution_count": 4,
   "metadata": {},
   "outputs": [
    {
     "data": {
      "image/png": "[encoded data removed]",
      "text/plain": [
       "<Figure size 800x800 with 9 Axes>"
      ]
     },
     "metadata": {},
     "output_type": "display_data"
    }
   ],
   "source": [
    "import matplotlib.pyplot as plt\n",
    "\n",
    "\n",
    "figure = plt.figure(figsize=(8, 8))\n",
    "cols, rows = 3, 3\n",
    "for i in range(1, cols * rows + 1):\n",
    "    sample_idx = torch.randint(len(dataset_train), size=(1,)).item()\n",
    "    img, label = dataset_train[sample_idx]\n",
    "    figure.add_subplot(rows, cols, i)\n",
    "    plt.title(f\"{chr(65 + label)} ou {chr(97 + label)}\")\n",
    "    plt.axis(\"off\")\n",
    "    plt.imshow(img.squeeze().T, cmap=\"gray\")\n",
    "plt.show()"
   ]
  },
  {
   "cell_type": "markdown",
   "metadata": {},
   "source": [
    "### Exercice 2\n",
    "\n",
    "Vous avez peut-être remarqué le code suivant dans la création des jeux de données :\n",
    "```\n",
    "transform=v2.Compose([v2.ToImage(), v2.ToDtype(torch.float32, scale=True)],\n",
    "target_transform=lambda x: x - 1\n",
    "```\n",
    "\n",
    "En lisant la documentation de la classe [torchvision.datasets.EMNIST](https://pytorch.org/vision/stable/generated/torchvision.datasets.EMNIST.html), vous verrez que :\n",
    "* l'argument `transform` permet de transformer l'image brute,\n",
    "* l'argument `target_transform` permet de transformer le label.\n",
    "\n",
    "**a)** Expliquez l'utilité du code transformant les entrées. Pour ce faire, pour la première observation du jeu d'entraînement, affichez le tenseur de l'entrée brute et le tenseur de l'entrée transformée. En particulier, comparez la taille, le type de données (*dtype*) et les valeurs minimale et maximale pour ces deux tenseurs.\n",
    "\n",
    "> **Remarque** : vous pouvez accéder aux données brutes de ce jeu de données grâce à l'attribut `data` (par exemple `dataset_train.data`)\n",
    "\n",
    "**b)** Expliquez l'utilité du code transformant les labels.\n",
    "\n",
    "> **Remarque** : vous pouvez accéder à la correspondance des labels bruts de ce jeu de données grâce à l'attribut `class_to_idx` (par exemple `dataset_train.class_to_idx`). Vous admettrez, sans le vérifier, qu'il n'y a aucun label manquant (`'N/A'`) dans les deux jeux de données."
   ]
  },
  {
   "cell_type": "code",
   "execution_count": 5,
   "metadata": {},
   "outputs": [
    {
     "data": {
      "text/plain": [
       "tensor([[  0,   0,   0,   0,   0,   0,   0,   0,   0,   0,   0,   0,   0,   0,\n",
       "           0,   0,   0,   0,   0,   0,   0,   0,   0,   0,   0,   0,   0,   0],\n",
       "        [  0,   0,   0,   0,   0,   0,   0,   0,   0,   0,   0,   0,   0,   0,\n",
       "           0,   0,   0,   0,   0,   0,   0,   0,   0,   0,   0,   0,   0,   0],\n",
       "        [  0,   0,   0,   0,   0,   0,   0,   0,   0,   0,   1,   0,   0,   0,\n",
       "           0,   0,   0,   0,   0,   0,   0,   0,   0,   0,   0,   0,   0,   0],\n",
       "        [  0,   0,  20, 114, 125,  82,  37,  37,  39, 115, 157,  94,  21,  10,\n",
       "          32,  37,  37,  37,  37,  37,  37,  37,  82, 125, 114,  20,   0,   0],\n",
       "        [  0,   3, 109, 245, 249, 233, 217, 217, 217, 245, 251, 234, 172, 142,\n",
       "         203, 217, 217, 217, 217, 217, 217, 217, 233, 249, 245, 109,   3,   0],\n",
       "        [  0,   4, 114, 253, 254, 254, 254, 254, 254, 254, 254, 254, 252, 251,\n",
       "         254, 254, 254, 254, 254, 254, 254, 254, 254, 254, 254, 127,   4,   0],\n",
       "        [  0,   0,  45, 214, 233, 251, 254, 254, 254, 254, 255, 255, 255, 255,\n",
       "         255, 255, 255, 255, 255, 255, 255, 255, 254, 254, 251, 113,   4,   0],\n",
       "        [  0,   0,   0,   5,  22,  82, 128, 160, 184, 217, 217, 218, 249, 254,\n",
       "         255, 255, 255, 255, 255, 254, 254, 247, 216, 170,  83,   7,   0,   0],\n",
       "        [  0,   0,   0,   0,   0,   2,   5,  16,  25,  37,  40,  50, 227, 254,\n",
       "         255, 255, 254, 254, 252, 245, 220, 159,  38,  21,   3,   0,   0,   0],\n",
       "        [  0,   0,   0,   0,   0,   0,   0,   0,   0,   9,  77, 140, 247, 254,\n",
       "         254, 254, 254, 244, 177, 114,  50,  20,   0,   0,   0,   0,   0,   0],\n",
       "        [  0,   0,   0,   0,   0,   0,   0,   3,  34, 175, 246, 254, 254, 254,\n",
       "         253, 221, 115,  46,   7,   0,   0,   0,   0,   0,   0,   0,   0,   0],\n",
       "        [  0,   0,   0,   0,   0,   3,  34,  84, 175, 251, 254, 254, 253, 234,\n",
       "         202,  91,   4,   0,   0,   0,   0,   0,   0,   0,   0,   0,   0,   0],\n",
       "        [  0,   0,   0,   0,  10,  79, 204, 233, 251, 254, 255, 255, 239, 116,\n",
       "          35,   7,   0,   0,   0,   0,   0,   0,   0,   0,   0,   0,   0,   0],\n",
       "        [  0,   0,   0,  20, 123, 220, 254, 254, 254, 255, 255, 255, 248, 165,\n",
       "          37,  21,  32,   9,   4,   4,   4,   4,   0,   0,   0,   0,   0,   0],\n",
       "        [  0,   0,   0, 100, 238, 254, 255, 255, 255, 255, 255, 255, 254, 253,\n",
       "         235, 234, 245, 222, 217, 217, 217, 203, 115,  32,   0,   0,   0,   0],\n",
       "        [  0,   0,   0,  33, 163, 244, 254, 254, 254, 255, 255, 255, 255, 254,\n",
       "         254, 254, 254, 254, 254, 254, 254, 254, 240, 111,   3,   0,   0,   0],\n",
       "        [  0,   0,   0,   1,  33, 126, 216, 233, 250, 254, 255, 255, 255, 255,\n",
       "         255, 255, 255, 255, 255, 255, 254, 254, 233,  82,   2,   0,   0,   0],\n",
       "        [  0,   0,   0,   0,   0,   0,   5,  22,  82, 251, 255, 255, 255, 255,\n",
       "         255, 255, 254, 254, 250, 233, 217, 203, 110,  18,   0,   0,   0,   0],\n",
       "        [  0,   0,   0,   0,   0,   0,   0,  10, 128, 254, 255, 255, 254, 254,\n",
       "         254, 254, 246, 208, 140,  82,  39,  32,   4,   0,   0,   0,   0,   0],\n",
       "        [  0,   0,   0,   0,   0,   0,  22,  95, 221, 254, 255, 254, 253, 234,\n",
       "         217, 215, 127,  46,   9,   2,   0,   0,   0,   0,   0,   0,   0,   0],\n",
       "        [  0,   0,   0,   0,   0,   3, 154, 232, 253, 254, 254, 252, 207,  95,\n",
       "          39,  37,   8,   0,   0,   0,   0,   0,   0,   0,   0,   0,   0,   0],\n",
       "        [  0,   0,   0,   0,   2,  77, 247, 254, 255, 254, 242, 131,   9,   0,\n",
       "           0,   0,   0,   0,   0,   0,   0,   0,   0,   0,   0,   0,   0,   0],\n",
       "        [  0,   0,   0,   0,   4, 125, 254, 254, 252, 232, 131,  32,   0,   0,\n",
       "           0,   0,   0,   0,   0,   0,   0,   0,   0,   0,   0,   0,   0,   0],\n",
       "        [  0,   0,   0,   0,   4, 113, 253, 246, 177, 109,  22,   0,   0,   0,\n",
       "           0,   0,   0,   0,   0,   0,   0,   0,   0,   0,   0,   0,   0,   0],\n",
       "        [  0,   0,   0,   0,   0,   8, 111,  77,   8,   0,   0,   0,   0,   0,\n",
       "           0,   0,   0,   0,   0,   0,   0,   0,   0,   0,   0,   0,   0,   0],\n",
       "        [  0,   0,   0,   0,   0,   0,   3,   2,   0,   0,   0,   0,   0,   0,\n",
       "           0,   0,   0,   0,   0,   0,   0,   0,   0,   0,   0,   0,   0,   0],\n",
       "        [  0,   0,   0,   0,   0,   0,   0,   0,   0,   0,   0,   0,   0,   0,\n",
       "           0,   0,   0,   0,   0,   0,   0,   0,   0,   0,   0,   0,   0,   0],\n",
       "        [  0,   0,   0,   0,   0,   0,   0,   0,   0,   0,   0,   0,   0,   0,\n",
       "           0,   0,   0,   0,   0,   0,   0,   0,   0,   0,   0,   0,   0,   0]],\n",
       "       dtype=torch.uint8)"
      ]
     },
     "execution_count": 5,
     "metadata": {},
     "output_type": "execute_result"
    }
   ],
   "source": [
    "dataset_train.data[0]"
   ]
  },
  {
   "cell_type": "code",
   "execution_count": 6,
   "metadata": {},
   "outputs": [
    {
     "data": {
      "text/plain": [
       "(torch.uint8, 0, 255)"
      ]
     },
     "execution_count": 6,
     "metadata": {},
     "output_type": "execute_result"
    }
   ],
   "source": [
    "dataset_train.data[0].dtype, dataset_train.data[0].min().item(), dataset_train.data[0].max().item()"
   ]
  },
  {
   "cell_type": "code",
   "execution_count": 7,
   "metadata": {},
   "outputs": [
    {
     "data": {
      "text/plain": [
       "Image([[[0.0000, 0.0000, 0.0000, 0.0000, 0.0000, 0.0000, 0.0000, 0.0000, 0.0000,\n",
       "         0.0000, 0.0000, 0.0000, 0.0000, 0.0000, 0.0000, 0.0000, 0.0000, 0.0000,\n",
       "         0.0000, 0.0000, 0.0000, 0.0000, 0.0000, 0.0000, 0.0000, 0.0000, 0.0000,\n",
       "         0.0000],\n",
       "        [0.0000, 0.0000, 0.0000, 0.0000, 0.0000, 0.0000, 0.0000, 0.0000, 0.0000,\n",
       "         0.0000, 0.0000, 0.0000, 0.0000, 0.0000, 0.0000, 0.0000, 0.0000, 0.0000,\n",
       "         0.0000, 0.0000, 0.0000, 0.0000, 0.0000, 0.0000, 0.0000, 0.0000, 0.0000,\n",
       "         0.0000],\n",
       "        [0.0000, 0.0000, 0.0000, 0.0000, 0.0000, 0.0000, 0.0000, 0.0000, 0.0000,\n",
       "         0.0000, 0.0039, 0.0000, 0.0000, 0.0000, 0.0000, 0.0000, 0.0000, 0.0000,\n",
       "         0.0000, 0.0000, 0.0000, 0.0000, 0.0000, 0.0000, 0.0000, 0.0000, 0.0000,\n",
       "         0.0000],\n",
       "        [0.0000, 0.0000, 0.0784, 0.4471, 0.4902, 0.3216, 0.1451, 0.1451, 0.1529,\n",
       "         0.4510, 0.6157, 0.3686, 0.0824, 0.0392, 0.1255, 0.1451, 0.1451, 0.1451,\n",
       "         0.1451, 0.1451, 0.1451, 0.1451, 0.3216, 0.4902, 0.4471, 0.0784, 0.0000,\n",
       "         0.0000],\n",
       "        [0.0000, 0.0118, 0.4275, 0.9608, 0.9765, 0.9137, 0.8510, 0.8510, 0.8510,\n",
       "         0.9608, 0.9843, 0.9176, 0.6745, 0.5569, 0.7961, 0.8510, 0.8510, 0.8510,\n",
       "         0.8510, 0.8510, 0.8510, 0.8510, 0.9137, 0.9765, 0.9608, 0.4275, 0.0118,\n",
       "         0.0000],\n",
       "        [0.0000, 0.0157, 0.4471, 0.9922, 0.9961, 0.9961, 0.9961, 0.9961, 0.9961,\n",
       "         0.9961, 0.9961, 0.9961, 0.9882, 0.9843, 0.9961, 0.9961, 0.9961, 0.9961,\n",
       "         0.9961, 0.9961, 0.9961, 0.9961, 0.9961, 0.9961, 0.9961, 0.4980, 0.0157,\n",
       "         0.0000],\n",
       "        [0.0000, 0.0000, 0.1765, 0.8392, 0.9137, 0.9843, 0.9961, 0.9961, 0.9961,\n",
       "         0.9961, 1.0000, 1.0000, 1.0000, 1.0000, 1.0000, 1.0000, 1.0000, 1.0000,\n",
       "         1.0000, 1.0000, 1.0000, 1.0000, 0.9961, 0.9961, 0.9843, 0.4431, 0.0157,\n",
       "         0.0000],\n",
       "        [0.0000, 0.0000, 0.0000, 0.0196, 0.0863, 0.3216, 0.5020, 0.6275, 0.7216,\n",
       "         0.8510, 0.8510, 0.8549, 0.9765, 0.9961, 1.0000, 1.0000, 1.0000, 1.0000,\n",
       "         1.0000, 0.9961, 0.9961, 0.9686, 0.8471, 0.6667, 0.3255, 0.0275, 0.0000,\n",
       "         0.0000],\n",
       "        [0.0000, 0.0000, 0.0000, 0.0000, 0.0000, 0.0078, 0.0196, 0.0627, 0.0980,\n",
       "         0.1451, 0.1569, 0.1961, 0.8902, 0.9961, 1.0000, 1.0000, 0.9961, 0.9961,\n",
       "         0.9882, 0.9608, 0.8627, 0.6235, 0.1490, 0.0824, 0.0118, 0.0000, 0.0000,\n",
       "         0.0000],\n",
       "        [0.0000, 0.0000, 0.0000, 0.0000, 0.0000, 0.0000, 0.0000, 0.0000, 0.0000,\n",
       "         0.0353, 0.3020, 0.5490, 0.9686, 0.9961, 0.9961, 0.9961, 0.9961, 0.9569,\n",
       "         0.6941, 0.4471, 0.1961, 0.0784, 0.0000, 0.0000, 0.0000, 0.0000, 0.0000,\n",
       "         0.0000],\n",
       "        [0.0000, 0.0000, 0.0000, 0.0000, 0.0000, 0.0000, 0.0000, 0.0118, 0.1333,\n",
       "         0.6863, 0.9647, 0.9961, 0.9961, 0.9961, 0.9922, 0.8667, 0.4510, 0.1804,\n",
       "         0.0275, 0.0000, 0.0000, 0.0000, 0.0000, 0.0000, 0.0000, 0.0000, 0.0000,\n",
       "         0.0000],\n",
       "        [0.0000, 0.0000, 0.0000, 0.0000, 0.0000, 0.0118, 0.1333, 0.3294, 0.6863,\n",
       "         0.9843, 0.9961, 0.9961, 0.9922, 0.9176, 0.7922, 0.3569, 0.0157, 0.0000,\n",
       "         0.0000, 0.0000, 0.0000, 0.0000, 0.0000, 0.0000, 0.0000, 0.0000, 0.0000,\n",
       "         0.0000],\n",
       "        [0.0000, 0.0000, 0.0000, 0.0000, 0.0392, 0.3098, 0.8000, 0.9137, 0.9843,\n",
       "         0.9961, 1.0000, 1.0000, 0.9373, 0.4549, 0.1373, 0.0275, 0.0000, 0.0000,\n",
       "         0.0000, 0.0000, 0.0000, 0.0000, 0.0000, 0.0000, 0.0000, 0.0000, 0.0000,\n",
       "         0.0000],\n",
       "        [0.0000, 0.0000, 0.0000, 0.0784, 0.4824, 0.8627, 0.9961, 0.9961, 0.9961,\n",
       "         1.0000, 1.0000, 1.0000, 0.9725, 0.6471, 0.1451, 0.0824, 0.1255, 0.0353,\n",
       "         0.0157, 0.0157, 0.0157, 0.0157, 0.0000, 0.0000, 0.0000, 0.0000, 0.0000,\n",
       "         0.0000],\n",
       "        [0.0000, 0.0000, 0.0000, 0.3922, 0.9333, 0.9961, 1.0000, 1.0000, 1.0000,\n",
       "         1.0000, 1.0000, 1.0000, 0.9961, 0.9922, 0.9216, 0.9176, 0.9608, 0.8706,\n",
       "         0.8510, 0.8510, 0.8510, 0.7961, 0.4510, 0.1255, 0.0000, 0.0000, 0.0000,\n",
       "         0.0000],\n",
       "        [0.0000, 0.0000, 0.0000, 0.1294, 0.6392, 0.9569, 0.9961, 0.9961, 0.9961,\n",
       "         1.0000, 1.0000, 1.0000, 1.0000, 0.9961, 0.9961, 0.9961, 0.9961, 0.9961,\n",
       "         0.9961, 0.9961, 0.9961, 0.9961, 0.9412, 0.4353, 0.0118, 0.0000, 0.0000,\n",
       "         0.0000],\n",
       "        [0.0000, 0.0000, 0.0000, 0.0039, 0.1294, 0.4941, 0.8471, 0.9137, 0.9804,\n",
       "         0.9961, 1.0000, 1.0000, 1.0000, 1.0000, 1.0000, 1.0000, 1.0000, 1.0000,\n",
       "         1.0000, 1.0000, 0.9961, 0.9961, 0.9137, 0.3216, 0.0078, 0.0000, 0.0000,\n",
       "         0.0000],\n",
       "        [0.0000, 0.0000, 0.0000, 0.0000, 0.0000, 0.0000, 0.0196, 0.0863, 0.3216,\n",
       "         0.9843, 1.0000, 1.0000, 1.0000, 1.0000, 1.0000, 1.0000, 0.9961, 0.9961,\n",
       "         0.9804, 0.9137, 0.8510, 0.7961, 0.4314, 0.0706, 0.0000, 0.0000, 0.0000,\n",
       "         0.0000],\n",
       "        [0.0000, 0.0000, 0.0000, 0.0000, 0.0000, 0.0000, 0.0000, 0.0392, 0.5020,\n",
       "         0.9961, 1.0000, 1.0000, 0.9961, 0.9961, 0.9961, 0.9961, 0.9647, 0.8157,\n",
       "         0.5490, 0.3216, 0.1529, 0.1255, 0.0157, 0.0000, 0.0000, 0.0000, 0.0000,\n",
       "         0.0000],\n",
       "        [0.0000, 0.0000, 0.0000, 0.0000, 0.0000, 0.0000, 0.0863, 0.3725, 0.8667,\n",
       "         0.9961, 1.0000, 0.9961, 0.9922, 0.9176, 0.8510, 0.8431, 0.4980, 0.1804,\n",
       "         0.0353, 0.0078, 0.0000, 0.0000, 0.0000, 0.0000, 0.0000, 0.0000, 0.0000,\n",
       "         0.0000],\n",
       "        [0.0000, 0.0000, 0.0000, 0.0000, 0.0000, 0.0118, 0.6039, 0.9098, 0.9922,\n",
       "         0.9961, 0.9961, 0.9882, 0.8118, 0.3725, 0.1529, 0.1451, 0.0314, 0.0000,\n",
       "         0.0000, 0.0000, 0.0000, 0.0000, 0.0000, 0.0000, 0.0000, 0.0000, 0.0000,\n",
       "         0.0000],\n",
       "        [0.0000, 0.0000, 0.0000, 0.0000, 0.0078, 0.3020, 0.9686, 0.9961, 1.0000,\n",
       "         0.9961, 0.9490, 0.5137, 0.0353, 0.0000, 0.0000, 0.0000, 0.0000, 0.0000,\n",
       "         0.0000, 0.0000, 0.0000, 0.0000, 0.0000, 0.0000, 0.0000, 0.0000, 0.0000,\n",
       "         0.0000],\n",
       "        [0.0000, 0.0000, 0.0000, 0.0000, 0.0157, 0.4902, 0.9961, 0.9961, 0.9882,\n",
       "         0.9098, 0.5137, 0.1255, 0.0000, 0.0000, 0.0000, 0.0000, 0.0000, 0.0000,\n",
       "         0.0000, 0.0000, 0.0000, 0.0000, 0.0000, 0.0000, 0.0000, 0.0000, 0.0000,\n",
       "         0.0000],\n",
       "        [0.0000, 0.0000, 0.0000, 0.0000, 0.0157, 0.4431, 0.9922, 0.9647, 0.6941,\n",
       "         0.4275, 0.0863, 0.0000, 0.0000, 0.0000, 0.0000, 0.0000, 0.0000, 0.0000,\n",
       "         0.0000, 0.0000, 0.0000, 0.0000, 0.0000, 0.0000, 0.0000, 0.0000, 0.0000,\n",
       "         0.0000],\n",
       "        [0.0000, 0.0000, 0.0000, 0.0000, 0.0000, 0.0314, 0.4353, 0.3020, 0.0314,\n",
       "         0.0000, 0.0000, 0.0000, 0.0000, 0.0000, 0.0000, 0.0000, 0.0000, 0.0000,\n",
       "         0.0000, 0.0000, 0.0000, 0.0000, 0.0000, 0.0000, 0.0000, 0.0000, 0.0000,\n",
       "         0.0000],\n",
       "        [0.0000, 0.0000, 0.0000, 0.0000, 0.0000, 0.0000, 0.0118, 0.0078, 0.0000,\n",
       "         0.0000, 0.0000, 0.0000, 0.0000, 0.0000, 0.0000, 0.0000, 0.0000, 0.0000,\n",
       "         0.0000, 0.0000, 0.0000, 0.0000, 0.0000, 0.0000, 0.0000, 0.0000, 0.0000,\n",
       "         0.0000],\n",
       "        [0.0000, 0.0000, 0.0000, 0.0000, 0.0000, 0.0000, 0.0000, 0.0000, 0.0000,\n",
       "         0.0000, 0.0000, 0.0000, 0.0000, 0.0000, 0.0000, 0.0000, 0.0000, 0.0000,\n",
       "         0.0000, 0.0000, 0.0000, 0.0000, 0.0000, 0.0000, 0.0000, 0.0000, 0.0000,\n",
       "         0.0000],\n",
       "        [0.0000, 0.0000, 0.0000, 0.0000, 0.0000, 0.0000, 0.0000, 0.0000, 0.0000,\n",
       "         0.0000, 0.0000, 0.0000, 0.0000, 0.0000, 0.0000, 0.0000, 0.0000, 0.0000,\n",
       "         0.0000, 0.0000, 0.0000, 0.0000, 0.0000, 0.0000, 0.0000, 0.0000, 0.0000,\n",
       "         0.0000]]], )"
      ]
     },
     "execution_count": 7,
     "metadata": {},
     "output_type": "execute_result"
    }
   ],
   "source": [
    "dataset_train[0][0]"
   ]
  },
  {
   "cell_type": "code",
   "execution_count": 8,
   "metadata": {},
   "outputs": [
    {
     "data": {
      "text/plain": [
       "(torch.float32, 0.0, 1.0)"
      ]
     },
     "execution_count": 8,
     "metadata": {},
     "output_type": "execute_result"
    }
   ],
   "source": [
    "dataset_train[0][0].dtype, dataset_train[0][0].min().item(), dataset_train[0][0].max().item()"
   ]
  },
  {
   "cell_type": "code",
   "execution_count": 9,
   "metadata": {},
   "outputs": [
    {
     "data": {
      "text/plain": [
       "[0,\n",
       " 1,\n",
       " 2,\n",
       " 3,\n",
       " 4,\n",
       " 5,\n",
       " 6,\n",
       " 7,\n",
       " 8,\n",
       " 9,\n",
       " 10,\n",
       " 11,\n",
       " 12,\n",
       " 13,\n",
       " 14,\n",
       " 15,\n",
       " 16,\n",
       " 17,\n",
       " 18,\n",
       " 19,\n",
       " 20,\n",
       " 21,\n",
       " 22,\n",
       " 23,\n",
       " 24,\n",
       " 25]"
      ]
     },
     "execution_count": 9,
     "metadata": {},
     "output_type": "execute_result"
    }
   ],
   "source": [
    "sorted(list(set([dataset_train[i][1] for i in range(len(dataset_train))])))"
   ]
  },
  {
   "cell_type": "code",
   "execution_count": 10,
   "metadata": {},
   "outputs": [
    {
     "data": {
      "text/plain": [
       "{'N/A': 0,\n",
       " 'a': 1,\n",
       " 'b': 2,\n",
       " 'c': 3,\n",
       " 'd': 4,\n",
       " 'e': 5,\n",
       " 'f': 6,\n",
       " 'g': 7,\n",
       " 'h': 8,\n",
       " 'i': 9,\n",
       " 'j': 10,\n",
       " 'k': 11,\n",
       " 'l': 12,\n",
       " 'm': 13,\n",
       " 'n': 14,\n",
       " 'o': 15,\n",
       " 'p': 16,\n",
       " 'q': 17,\n",
       " 'r': 18,\n",
       " 's': 19,\n",
       " 't': 20,\n",
       " 'u': 21,\n",
       " 'v': 22,\n",
       " 'w': 23,\n",
       " 'x': 24,\n",
       " 'y': 25,\n",
       " 'z': 26}"
      ]
     },
     "execution_count": 10,
     "metadata": {},
     "output_type": "execute_result"
    }
   ],
   "source": [
    "dataset_train.class_to_idx"
   ]
  },
  {
   "cell_type": "markdown",
   "metadata": {},
   "source": [
    "**Réponses** :\n",
    "    \n",
    "**a)** `dataset_train.data[0]` renvoie le tenseur original pour la première image. Il est composé d'entiers allant de 0 à 255 (correspondant à l'ensemble des entiers non-signés (c'est-à-dire positifs) définissables avec 8 bits, d'où le type `torch.uint8`). `dataset_train[0][0]` renvoie le tenseur transformé pour la première image. Il est composé de nombres flottants à 32 bits (`torch.float32`) compris entre $0$ et $1$. La normalisation des données est importante en apprentissage profond pour éviter les problèmes liés au calcul à virgule flottante.\n",
    "\n",
    "**b)** `dataset_train[i][1]` renvoie le label de la $i$-ième observation du jeu d'entraînement. On remarque qu'il s'agit d'un entier et non d'un caractère. Pour rappel, les classes correspondent aux 26 lettres de l'alphabet. L'attribut `dataset_train.class_to_idx` renvoie la correspondance entre les caractères et les indices. Cependant, on remarque que les indices vont de $0$ à $25$ sur le jeu d'entraînement, alors qu'ils vont de $0$ à $26$ d'après le dictionnaire. Il n'y a en fait aucun label manquant (`N/A`) et les indices sont décalés de 1 (`'a'` correspond à $0$ et `'z'` correspond à $25$)."
   ]
  },
  {
   "cell_type": "markdown",
   "metadata": {},
   "source": [
    "### Exercice 3\n",
    "\n",
    "Calculez la distribution des classes sur les jeux d'entraînement et de validation. Est-ce que les classes sont équilibrées ? Est-ce que la précision (*accuracy*) est une métrique adaptée pour évaluer la performance d'un modèle ? Vous pouvez utiliser, au choix, les fonctions [numpy.unique()](https://numpy.org/doc/stable/reference/generated/numpy.unique.html), [numpy.bincount()](https://numpy.org/doc/stable/reference/generated/numpy.bincount.html) ou [torch.bincount()](https://pytorch.org/docs/stable/generated/torch.bincount.html) pour vous aider."
   ]
  },
  {
   "cell_type": "code",
   "execution_count": 11,
   "metadata": {},
   "outputs": [
    {
     "name": "stdout",
     "output_type": "stream",
     "text": [
      "Distribution sur le jeu d'entraînement : [4800 4800 4800 4800 4800 4800 4800 4800 4800 4800 4800 4800 4800 4800\n",
      " 4800 4800 4800 4800 4800 4800 4800 4800 4800 4800 4800 4800]\n",
      "Distribution sur le jeu de validation : [800 800 800 800 800 800 800 800 800 800 800 800 800 800 800 800 800 800\n",
      " 800 800 800 800 800 800 800 800]\n"
     ]
    }
   ],
   "source": [
    "import numpy as np\n",
    "\n",
    "_, counts_train = np.unique([dataset_train[i][1] for i in range(len(dataset_train))], return_counts=True)\n",
    "print(f\"Distribution sur le jeu d'entraînement : {counts_train}\")\n",
    "\n",
    "_, counts_val = np.unique([dataset_val[i][1] for i in range(len(dataset_val))], return_counts=True)\n",
    "print(f\"Distribution sur le jeu de validation : {counts_val}\")"
   ]
  },
  {
   "cell_type": "markdown",
   "metadata": {},
   "source": [
    "**Réponse** : Les classes sont équilibrées sur les jeux d'entraînement et de validation. La précision (*accuracy*), c'est-à-dire la proportion de bonnes prédictions, est donc une métrique adaptée."
   ]
  },
  {
   "cell_type": "markdown",
   "metadata": {},
   "source": [
    "### Exercice 4\n",
    "\n",
    "Construisez les *dataloaders* pour les jeux d'entraînement et de validation. Vous utiliserez des lots de taille *64*. Mélangez les observations sur le jeu d'entraînement."
   ]
  },
  {
   "cell_type": "code",
   "execution_count": 5,
   "metadata": {},
   "outputs": [],
   "source": [
    "from torch.utils.data import DataLoader\n",
    "\n",
    "\n",
    "dataloader_train = DataLoader(dataset_train, batch_size=64, shuffle=True)\n",
    "dataloader_val = DataLoader(dataset_val, batch_size=64)"
   ]
  },
  {
   "cell_type": "markdown",
   "metadata": {},
   "source": [
    "## Un premier réseau de neurones convolutif\n",
    "\n",
    "### Exercice 5\n",
    "\n",
    "Le code suivant est l'ébauche de la définition d'un réseau de neurones convolutif. Répondez aux questions suivantes :\n",
    "\n",
    "**a)** Quelles couches sont des couches de convolution ?\n",
    "\n",
    "**b)** Pourquoi le nombre de canaux en entrée est fixé à `1` dans `self.cv1` ?\n",
    "\n",
    "**c)** Indiquez, pour `self.cv1`, le nombre de canaux en sortie, la taille du noyau et la taille du pas.\n",
    "\n",
    "**d)** De quel type de couche de regroupement ce réseau est-il constitué ?\n",
    "\n",
    "**e)** Quelles sont les couches avec des paramètres entraînables ?"
   ]
  },
  {
   "cell_type": "code",
   "execution_count": 6,
   "metadata": {},
   "outputs": [],
   "source": [
    "import lightning as L\n",
    "from torchmetrics import Accuracy\n",
    "\n",
    "\n",
    "class CNN(L.LightningModule):  # La classe hérite de la classe lightning.LightningModule\n",
    "    def __init__(self):\n",
    "        \"\"\"Constructeur.\n",
    "        \n",
    "        Dans le constructeur, on exécute le constructeur de la clase mère et on définit\n",
    "        toutes les couches et fonctions d'activation de notre réseau de neurones.\n",
    "        \"\"\"\n",
    "        super().__init__()  # Toujours exécuter le constructeur de la classe mère\n",
    "        \n",
    "        # Initialisation des couches et fonctions d'activation\n",
    "        self.cv1 = torch.nn.Conv2d(in_channels=1, out_channels=4, kernel_size=5, padding='same')\n",
    "        self.relu1 = torch.nn.ReLU()\n",
    "        self.pool1 = torch.nn.MaxPool2d(kernel_size=2, stride=2)\n",
    "        self.flatten = torch.nn.Flatten()\n",
    "        self.fc2 = torch.nn.Linear(784, 64)\n",
    "        self.relu2 = torch.nn.ReLU()\n",
    "        self.fc3 = torch.nn.Linear(64, 26)\n",
    "        self.relu3 = torch.nn.ReLU()\n",
    "        \n",
    "        # Initialisation de la fonction de perte\n",
    "        self.loss = torch.nn.CrossEntropyLoss()\n",
    "        \n",
    "        # Initialisation des métriques\n",
    "        self.accuracy_train = Accuracy(task=\"multiclass\", num_classes=26)\n",
    "        self.accuracy_val = Accuracy(task=\"multiclass\", num_classes=26)\n",
    "    \n",
    "    def forward(self, x):\n",
    "        \"\"\"Implémente la passe avant.\n",
    "        \n",
    "        L'argument x est un tenseur correspondant soit à l'entrée une seule\n",
    "        observation soit aux entrées d'un lot d'observations.\n",
    "        \"\"\"\n",
    "        out = self.cv1(x)\n",
    "        out = self.relu1(out)\n",
    "        out = self.pool1(out)\n",
    "        out = self.flatten(out)\n",
    "        out = self.fc2(out)\n",
    "        out = self.relu2(out)\n",
    "        out = self.fc3(out)\n",
    "        out = self.relu3(out)\n",
    "        return out\n",
    "    \n",
    "    def step(self, batch, dataset):\n",
    "        \"\"\"Effectue une étape.\n",
    "\n",
    "        Une étape consiste à passer d'un lot d'observations (l'argument batch)\n",
    "        à l'évaluation de la fonction de coût pour ce lot d'observations.\n",
    "\n",
    "        Parameters\n",
    "        ----------\n",
    "        batch : tuple\n",
    "            Un lot d'observations. Le premier élément du tuple est le lot\n",
    "            des entrées, le second est le lot des labels.\n",
    "            \n",
    "        dataset : {\"training\", \"validation\"}\n",
    "            Jeu de données utilisé.\n",
    "\n",
    "        Returns\n",
    "        -------\n",
    "        loss : Tensor, shape = (1,)\n",
    "            La fonction de coût pour ce lot d'observations.\n",
    "        \"\"\"\n",
    "        X, y = batch  # X correspond aux images, y aux classes\n",
    "        logits = self(X)  # Passe avant, qui renvoie les logits\n",
    "        loss = self.loss(logits, y)  # Évaluation de la fonction de coût\n",
    "        y_pred = logits.argmax(1)  # Prédictions du modèle\n",
    "        \n",
    "        if dataset == \"training\":\n",
    "            metric = self.accuracy_train\n",
    "            name = \"train\"\n",
    "            bar_step = True\n",
    "        else:\n",
    "            metric = self.accuracy_val\n",
    "            name = \"val\"\n",
    "            bar_step = False\n",
    "\n",
    "        acc = metric(y_pred, y)\n",
    "        self.log(f\"loss_{name}\", loss, prog_bar=bar_step, on_step=bar_step, on_epoch=True)\n",
    "        self.log(f\"accuracy_{name}\", acc, prog_bar=bar_step, on_step=bar_step, on_epoch=True)\n",
    "        \n",
    "        return loss\n",
    "    \n",
    "    def training_step(self, batch):\n",
    "        \"\"\"Effectue une étape d'entraînement.\"\"\"\n",
    "        return self.step(batch, \"training\")\n",
    "\n",
    "    def validation_step(self, batch):\n",
    "        \"\"\"Effectue une étape de validation.\"\"\"\n",
    "        return self.step(batch, \"validation\")\n",
    "    \n",
    "    def on_train_start(self):\n",
    "        \"\"\"Code exécuté au début de l'entraînement.\"\"\"\n",
    "        string = f\"Version {self.trainer.logger.version}\"\n",
    "        print(f\"{string}\\n{'=' * len(string)}\\n\")\n",
    "    \n",
    "    def on_train_epoch_end(self):\n",
    "        \"\"\"Code exécuté à la fin de chaque époque d'entraînement.\"\"\"\n",
    "        metrics = self.trainer.callback_metrics\n",
    "        string = (f\"\"\"\n",
    "            Époque {self.trainer.current_epoch + 1} / {self.trainer.max_epochs}\n",
    "            ------------------------------------------------\n",
    "            |     Jeu      | Fonction de perte | Précision |\n",
    "            | ------------ | ----------------- | --------- |\n",
    "            | Entraînement |{metrics['loss_train'].item():^19.5f}|{metrics['accuracy_train'].item():^11.3%}|\n",
    "            |  Validation  |{metrics['loss_val'].item():^19.5f}|{metrics['accuracy_val'].item():^11.3%}|\n",
    "            ------------------------------------------------\n",
    "        \"\"\")\n",
    "        string = '\\n'.join([line.strip() for line in string.split('\\n')])\n",
    "        print(string)\n",
    "\n",
    "    def configure_optimizers(self):\n",
    "        \"\"\"Configure l'algorithme d'optimisation à utiliser.\"\"\"\n",
    "        optimizer = torch.optim.Adam(self.parameters())\n",
    "        return optimizer"
   ]
  },
  {
   "cell_type": "markdown",
   "metadata": {},
   "source": [
    "**Réponses** :\n",
    "\n",
    "**a)** Il n'y a qu'une seule couche de convolution, correspondant à l'attribut `cv1`.\n",
    "\n",
    "**b)** Les images en entrée sont en nuances de gris, il n'y a donc qu'un seul canal.\n",
    "\n",
    "**c)** Il y a 4 canaux en sortie, le noyau est de taille $5 \\times 5$ et le pas est de $1$.\n",
    "\n",
    "**d)** Il n'y a qu'une seule couche de regroupement, correspondant à l'attribut `pool1` : il s'agit d'un regroupement par le maximum.\n",
    "\n",
    "**e)** Les couches avec des paramètres entraînables sont la couche de convolution (`cv1`) et les couches linéaires (`fc2` et `fc3`). En effet, la fonction d'activation ReLU, la couche d'aplatissement et la couche de regroupement n'ont pas de paramètres entraînables."
   ]
  },
  {
   "cell_type": "markdown",
   "metadata": {},
   "source": [
    "### Exercice 6\n",
    "\n",
    "En essayant d'afficher le résumé de l'architecture de notre modèle avec le code ci-dessous, une erreur va être levée. Identifiez le problème correspondant à cette erreur et corrigez-le."
   ]
  },
  {
   "cell_type": "code",
   "execution_count": 7,
   "metadata": {},
   "outputs": [
    {
     "data": {
      "text/plain": [
       "==========================================================================================\n",
       "Layer (type:depth-idx)                   Output Shape              Param #\n",
       "==========================================================================================\n",
       "CNN                                      [64, 10]                  --\n",
       "├─Conv2d: 1-1                            [64, 4, 28, 28]           104\n",
       "├─ReLU: 1-2                              [64, 4, 28, 28]           --\n",
       "├─MaxPool2d: 1-3                         [64, 4, 14, 14]           --\n",
       "├─Flatten: 1-4                           [64, 784]                 --\n",
       "├─Linear: 1-5                            [64, 64]                  50,240\n",
       "├─ReLU: 1-6                              [64, 64]                  --\n",
       "├─Linear: 1-7                            [64, 10]                  650\n",
       "├─ReLU: 1-8                              [64, 10]                  --\n",
       "==========================================================================================\n",
       "Total params: 50,994\n",
       "Trainable params: 50,994\n",
       "Non-trainable params: 0\n",
       "Total mult-adds (M): 8.48\n",
       "==========================================================================================\n",
       "Input size (MB): 0.20\n",
       "Forward/backward pass size (MB): 1.64\n",
       "Params size (MB): 0.20\n",
       "Estimated Total Size (MB): 2.05\n",
       "=========================================================================================="
      ]
     },
     "execution_count": 7,
     "metadata": {},
     "output_type": "execute_result"
    }
   ],
   "source": [
    "from torchinfo import summary\n",
    "\n",
    "\n",
    "summary(CNN(), input_size=(64, 1, 28, 28))"
   ]
  },
  {
   "cell_type": "markdown",
   "metadata": {},
   "source": [
    "**Réponse** : La taille du vecteur (après aplatissement), qui est égale au produit du nombre de canaux et du nombre de pixels après le bloc convolutif, est égale à $4 \\times 14 \\times 14 = 784$ et non $123$."
   ]
  },
  {
   "cell_type": "markdown",
   "metadata": {},
   "source": [
    "### Exercice 7\n",
    "\n",
    "Entraînez votre modèle pendant 10 époques. Comparez la performance du modèle à celle attendue pour un modèle trivial (qui prédirait toujours la même classe ou qui prédirait de façon totalement aléatoire les classes)."
   ]
  },
  {
   "cell_type": "code",
   "execution_count": 15,
   "metadata": {},
   "outputs": [
    {
     "data": {
      "application/vnd.jupyter.widget-view+json": {
       "model_id": "e5e17c30495f44a38f61c8072cf39a88",
       "version_major": 2,
       "version_minor": 0
      },
      "text/plain": [
       "Training: |                                               | 0/? [00:00<?, ?it/s]"
      ]
     },
     "metadata": {},
     "output_type": "display_data"
    },
    {
     "name": "stdout",
     "output_type": "stream",
     "text": [
      "Version 0\n",
      "=========\n",
      "\n"
     ]
    },
    {
     "data": {
      "application/vnd.jupyter.widget-view+json": {
       "model_id": "",
       "version_major": 2,
       "version_minor": 0
      },
      "text/plain": [
       "Validation: |                                             | 0/? [00:00<?, ?it/s]"
      ]
     },
     "metadata": {},
     "output_type": "display_data"
    },
    {
     "name": "stdout",
     "output_type": "stream",
     "text": [
      "\n",
      "Époque 1 / 10\n",
      "------------------------------------------------\n",
      "|     Jeu      | Fonction de perte | Précision |\n",
      "| ------------ | ----------------- | --------- |\n",
      "| Entraînement |      0.51283      |  19.764%  |\n",
      "|  Validation  |      0.45378      |  21.255%  |\n",
      "------------------------------------------------\n",
      "\n"
     ]
    },
    {
     "data": {
      "application/vnd.jupyter.widget-view+json": {
       "model_id": "",
       "version_major": 2,
       "version_minor": 0
      },
      "text/plain": [
       "Validation: |                                             | 0/? [00:00<?, ?it/s]"
      ]
     },
     "metadata": {},
     "output_type": "display_data"
    },
    {
     "name": "stdout",
     "output_type": "stream",
     "text": [
      "\n",
      "Époque 2 / 10\n",
      "------------------------------------------------\n",
      "|     Jeu      | Fonction de perte | Précision |\n",
      "| ------------ | ----------------- | --------- |\n",
      "| Entraînement |      0.43275      |  21.632%  |\n",
      "|  Validation  |      0.42625      |  21.774%  |\n",
      "------------------------------------------------\n",
      "\n"
     ]
    },
    {
     "data": {
      "application/vnd.jupyter.widget-view+json": {
       "model_id": "",
       "version_major": 2,
       "version_minor": 0
      },
      "text/plain": [
       "Validation: |                                             | 0/? [00:00<?, ?it/s]"
      ]
     },
     "metadata": {},
     "output_type": "display_data"
    },
    {
     "name": "stdout",
     "output_type": "stream",
     "text": [
      "\n",
      "Époque 3 / 10\n",
      "------------------------------------------------\n",
      "|     Jeu      | Fonction de perte | Précision |\n",
      "| ------------ | ----------------- | --------- |\n",
      "| Entraînement |      0.41284      |  22.010%  |\n",
      "|  Validation  |      0.41683      |  21.856%  |\n",
      "------------------------------------------------\n",
      "\n"
     ]
    },
    {
     "data": {
      "application/vnd.jupyter.widget-view+json": {
       "model_id": "",
       "version_major": 2,
       "version_minor": 0
      },
      "text/plain": [
       "Validation: |                                             | 0/? [00:00<?, ?it/s]"
      ]
     },
     "metadata": {},
     "output_type": "display_data"
    },
    {
     "name": "stdout",
     "output_type": "stream",
     "text": [
      "\n",
      "Époque 4 / 10\n",
      "------------------------------------------------\n",
      "|     Jeu      | Fonction de perte | Précision |\n",
      "| ------------ | ----------------- | --------- |\n",
      "| Entraînement |      0.40320      |  22.167%  |\n",
      "|  Validation  |      0.40903      |  22.072%  |\n",
      "------------------------------------------------\n",
      "\n"
     ]
    },
    {
     "data": {
      "application/vnd.jupyter.widget-view+json": {
       "model_id": "",
       "version_major": 2,
       "version_minor": 0
      },
      "text/plain": [
       "Validation: |                                             | 0/? [00:00<?, ?it/s]"
      ]
     },
     "metadata": {},
     "output_type": "display_data"
    },
    {
     "name": "stdout",
     "output_type": "stream",
     "text": [
      "\n",
      "Époque 5 / 10\n",
      "------------------------------------------------\n",
      "|     Jeu      | Fonction de perte | Précision |\n",
      "| ------------ | ----------------- | --------- |\n",
      "| Entraînement |      0.39751      |  22.268%  |\n",
      "|  Validation  |      0.40679      |  22.139%  |\n",
      "------------------------------------------------\n",
      "\n"
     ]
    },
    {
     "data": {
      "application/vnd.jupyter.widget-view+json": {
       "model_id": "",
       "version_major": 2,
       "version_minor": 0
      },
      "text/plain": [
       "Validation: |                                             | 0/? [00:00<?, ?it/s]"
      ]
     },
     "metadata": {},
     "output_type": "display_data"
    },
    {
     "name": "stdout",
     "output_type": "stream",
     "text": [
      "\n",
      "Époque 6 / 10\n",
      "------------------------------------------------\n",
      "|     Jeu      | Fonction de perte | Précision |\n",
      "| ------------ | ----------------- | --------- |\n",
      "| Entraînement |      0.39361      |  22.325%  |\n",
      "|  Validation  |      0.40994      |  22.058%  |\n",
      "------------------------------------------------\n",
      "\n"
     ]
    },
    {
     "data": {
      "application/vnd.jupyter.widget-view+json": {
       "model_id": "",
       "version_major": 2,
       "version_minor": 0
      },
      "text/plain": [
       "Validation: |                                             | 0/? [00:00<?, ?it/s]"
      ]
     },
     "metadata": {},
     "output_type": "display_data"
    },
    {
     "name": "stdout",
     "output_type": "stream",
     "text": [
      "\n",
      "Époque 7 / 10\n",
      "------------------------------------------------\n",
      "|     Jeu      | Fonction de perte | Précision |\n",
      "| ------------ | ----------------- | --------- |\n",
      "| Entraînement |      0.38960      |  22.393%  |\n",
      "|  Validation  |      0.40563      |  22.154%  |\n",
      "------------------------------------------------\n",
      "\n"
     ]
    },
    {
     "data": {
      "application/vnd.jupyter.widget-view+json": {
       "model_id": "",
       "version_major": 2,
       "version_minor": 0
      },
      "text/plain": [
       "Validation: |                                             | 0/? [00:00<?, ?it/s]"
      ]
     },
     "metadata": {},
     "output_type": "display_data"
    },
    {
     "name": "stdout",
     "output_type": "stream",
     "text": [
      "\n",
      "Époque 8 / 10\n",
      "------------------------------------------------\n",
      "|     Jeu      | Fonction de perte | Précision |\n",
      "| ------------ | ----------------- | --------- |\n",
      "| Entraînement |      0.38654      |  22.466%  |\n",
      "|  Validation  |      0.40519      |  22.187%  |\n",
      "------------------------------------------------\n",
      "\n"
     ]
    },
    {
     "data": {
      "application/vnd.jupyter.widget-view+json": {
       "model_id": "",
       "version_major": 2,
       "version_minor": 0
      },
      "text/plain": [
       "Validation: |                                             | 0/? [00:00<?, ?it/s]"
      ]
     },
     "metadata": {},
     "output_type": "display_data"
    },
    {
     "name": "stdout",
     "output_type": "stream",
     "text": [
      "\n",
      "Époque 9 / 10\n",
      "------------------------------------------------\n",
      "|     Jeu      | Fonction de perte | Précision |\n",
      "| ------------ | ----------------- | --------- |\n",
      "| Entraînement |      0.38381      |  22.483%  |\n",
      "|  Validation  |      0.41194      |  21.986%  |\n",
      "------------------------------------------------\n",
      "\n"
     ]
    },
    {
     "data": {
      "application/vnd.jupyter.widget-view+json": {
       "model_id": "",
       "version_major": 2,
       "version_minor": 0
      },
      "text/plain": [
       "Validation: |                                             | 0/? [00:00<?, ?it/s]"
      ]
     },
     "metadata": {},
     "output_type": "display_data"
    },
    {
     "name": "stdout",
     "output_type": "stream",
     "text": [
      "\n",
      "Époque 10 / 10\n",
      "------------------------------------------------\n",
      "|     Jeu      | Fonction de perte | Précision |\n",
      "| ------------ | ----------------- | --------- |\n",
      "| Entraînement |      0.38217      |  22.523%  |\n",
      "|  Validation  |      0.40621      |  22.115%  |\n",
      "------------------------------------------------\n",
      "\n"
     ]
    }
   ],
   "source": [
    "from lightning.pytorch.callbacks import TQDMProgressBar\n",
    "from lightning.pytorch.loggers import CSVLogger\n",
    "\n",
    "\n",
    "model = CNN()\n",
    "\n",
    "trainer = L.Trainer(\n",
    "    max_epochs=10,\n",
    "    enable_model_summary=False,  # supprimer le résumé du modèle\n",
    "    logger=CSVLogger('.'),  # sauvegarder les résultats dans un fichier CSV\n",
    "    num_sanity_val_steps=0,  # ne pas effectuer d'étape de validation avant l'entraînement\n",
    "    callbacks=[TQDMProgressBar(refresh_rate=100)]  # mettre à jour la barre de progression tous les 100 lots\n",
    ")\n",
    "\n",
    "trainer.fit(\n",
    "    model=model,\n",
    "    train_dataloaders=dataloader_train,\n",
    "    val_dataloaders=dataloader_val\n",
    ")"
   ]
  },
  {
   "cell_type": "markdown",
   "metadata": {},
   "source": [
    "**Réponse** : La performance n'est pas terrible, avec environ $25\\%$ de précision, c'est-à-dire qu'une prédiction sur quatre est bonne. Les classes étant équilibrées, un modèle totalement aléatoire a une chance sur 26 de prédire la bonne classe, sa précision (en espérance) est donc de $3.84\\$%, ce qui est quand même bien plus faible que la précision obtenue."
   ]
  },
  {
   "cell_type": "markdown",
   "metadata": {},
   "source": [
    "### Exercice 8\n",
    "\n",
    "Viusalisez les courbes de performance du modèle en utilisant la fonction `plot_loss_accuracy` définie ci-dessous. Vous pouvez utiliser l'argument `version` pour indiquer quelle version du modèle choisir."
   ]
  },
  {
   "cell_type": "code",
   "execution_count": 16,
   "metadata": {},
   "outputs": [],
   "source": [
    "def plot_loss_accuracy(savedir='.', version=None):\n",
    "    \"\"\"Affiche les courbes de la fonction de perte et d'accuracy.\n",
    "    \n",
    "    Parameters\n",
    "    ----------\n",
    "    savedir : str (default = '.')\n",
    "        Chemin où les résultats sont sauvegardés.\n",
    "        \n",
    "    version : int or None (default = None)\n",
    "        Numéro de la version du modèle.\n",
    "    \"\"\"\n",
    "    # Récupère les résultats sous la forme d'un DataFrame\n",
    "    import pandas as pd\n",
    "    import os\n",
    "    if version is None:\n",
    "        version = max([\n",
    "            int(folder.split('version_')[1])\n",
    "            for folder in os.listdir(os.path.join(savedir, 'lightning_logs'))\n",
    "            if folder.startswith('version')\n",
    "        ])\n",
    "    df = pd.read_csv(os.path.join(savedir, 'lightning_logs', f'version_{version}', 'metrics.csv'))\n",
    "    df['epoch'] += 1  # On commence à compter à partir de 1\n",
    "\n",
    "    loss_train = df.dropna(subset='loss_train_epoch').set_index('epoch')['loss_train_epoch']\n",
    "    loss_val = df.dropna(subset='loss_val').set_index('epoch')['loss_val']\n",
    "\n",
    "    accuracy_train = df.dropna(subset='accuracy_train_epoch').set_index('epoch')['accuracy_train_epoch']\n",
    "    accuracy_val = df.dropna(subset='accuracy_val').set_index('epoch')['accuracy_val']\n",
    "\n",
    "    # Affiche les résultats\n",
    "    plt.figure(figsize=(13, 4))\n",
    "\n",
    "    plt.subplot(1, 2, 1)\n",
    "    plt.plot(loss_train.index, loss_train.to_numpy(), 'o-', label='Entraînement');\n",
    "    plt.plot(loss_val.index, loss_val.to_numpy(), 'o-', label='Validation');\n",
    "    plt.xlabel('Époque')\n",
    "    plt.ylabel('Fonction de perte')\n",
    "    plt.legend();\n",
    "\n",
    "    plt.subplot(1, 2, 2)\n",
    "    plt.plot(accuracy_train.index, accuracy_train.to_numpy(), 'o-', label='Entraînement');\n",
    "    plt.plot(accuracy_val.index, accuracy_val.to_numpy(), 'o-', label='Validation');\n",
    "    plt.xlabel('Époque')\n",
    "    plt.ylabel('Précision')\n",
    "    plt.legend();"
   ]
  },
  {
   "cell_type": "code",
   "execution_count": 17,
   "metadata": {},
   "outputs": [
    {
     "data": {
      "image/png": "[encoded data removed]",
      "text/plain": [
       "<Figure size 1300x400 with 2 Axes>"
      ]
     },
     "metadata": {},
     "output_type": "display_data"
    }
   ],
   "source": [
    "plot_loss_accuracy()"
   ]
  },
  {
   "cell_type": "markdown",
   "metadata": {},
   "source": [
    "## Un deuxième réseau de neurones convolutif\n",
    "\n",
    "### Exercice 9\n",
    "\n",
    "Complétez la méthode `__init__()` de la classe `LeNet5` définie ci-dessous dont l'achitecture séquentielle est décrite ci-dessous, correspondant à l'architecture de [LeNet5](https://en.wikipedia.org/wiki/LeNet) :\n",
    "\n",
    "* une couche de convolution avec $6$ canaux en sortie, un noyau de taille $5 \\times 5$ et du rembourrage (*padding*) de telle que sorte l'image en sortie soit de la même taille que l'image en entrée.\n",
    "* la fonction d'activation sigmoïde.\n",
    "* une couche de regroupement par le maximum avec un noyau de taille $2 \\times 2$ et un pas de $2$.\n",
    "* une couche de convolution avec $16$ canaux en sortie, un noyau de taille $5 \\times 5$ et sans rembourrage.\n",
    "* la fonction d'activation sigmoïde.\n",
    "* une couche de regroupement par le maximum avec un noyau de taille $2 \\times 2$ et un pas de $2$.\n",
    "* une couche d'aplatissement (*flatten*).\n",
    "* une couche linéaire avec une entrée de taille $400$ et une sortie de taille $256$.\n",
    "* la fonction d'activation sigmoïde.\n",
    "* une couche linéaire avec une sortie de taille $128$.\n",
    "* la fonction d'activation sigmoïde.\n",
    "* une couche linéaire avec une sortie de taille $26$.\n",
    "\n",
    "Voici les liens vers les documentations des classes correspondantes :\n",
    "[torch.nn.Conv2d](https://pytorch.org/docs/stable/generated/torch.nn.Conv2d.html),\n",
    "[torch.nn.Sigmoid](https://pytorch.org/docs/stable/generated/torch.nn.Sigmoid.html),\n",
    "[torch.nn.MaxPool2d](https://pytorch.org/docs/stable/generated/torch.nn.MaxPool2d.html),\n",
    "[torch.nn.Flatten](https://pytorch.org/docs/stable/generated/torch.nn.Flatten.html) et\n",
    "[torch.nn.Linear](https://pytorch.org/docs/stable/generated/torch.nn.Linear.html)."
   ]
  },
  {
   "cell_type": "code",
   "execution_count": 18,
   "metadata": {},
   "outputs": [],
   "source": [
    "class LeNet5(L.LightningModule):  # La classe hérite de la classe lightning.LightningModule\n",
    "    def __init__(self):\n",
    "        \"\"\"Constructeur.\n",
    "        \n",
    "        Dans le constructeur, on exécute le constructeur de la clase mère et on définit\n",
    "        toutes les couches et fonctions d'activation de notre réseau de neurones.\n",
    "        \"\"\"\n",
    "        super().__init__()  # Toujours exécuter le constructeur de la classe mère\n",
    "        \n",
    "        ### BEGIN TODO ###\n",
    "        # Initialisation du modèle\n",
    "        self.sequential = torch.nn.Sequential(\n",
    "            # Premier bloc convolutif\n",
    "            torch.nn.Conv2d(1, 6, kernel_size=5, padding='same'),\n",
    "            torch.nn.Sigmoid(),\n",
    "            torch.nn.MaxPool2d(kernel_size=2, stride=2),\n",
    "            \n",
    "            # Second bloc convolutif\n",
    "            torch.nn.Conv2d(6, 16, kernel_size=5, padding=0),\n",
    "            torch.nn.Sigmoid(),\n",
    "            torch.nn.MaxPool2d(kernel_size=2, stride=2),\n",
    "            \n",
    "            # Aplatissement puis perceptron multicouche\n",
    "            torch.nn.Flatten(),\n",
    "            torch.nn.Linear(400, 256),\n",
    "            torch.nn.Sigmoid(),\n",
    "            torch.nn.Linear(256, 128),\n",
    "            torch.nn.Sigmoid(),\n",
    "            torch.nn.Linear(128, 26)\n",
    "        )\n",
    "        #### END TODO ####\n",
    "        \n",
    "        # Initialisation de la fonction de perte\n",
    "        self.loss = torch.nn.CrossEntropyLoss()\n",
    "        \n",
    "        # Initialisation des métriques\n",
    "        self.accuracy_train = Accuracy(task=\"multiclass\", num_classes=26)\n",
    "        self.accuracy_val = Accuracy(task=\"multiclass\", num_classes=26)\n",
    "    \n",
    "    def forward(self, x):\n",
    "        \"\"\"Implémente la passe avant.\n",
    "        \n",
    "        L'argument x est un tenseur correspondant soit à l'entrée une seule\n",
    "        observation soit aux entrées d'un lot d'observations.\n",
    "        \"\"\"\n",
    "        return self.sequential(x)\n",
    "    \n",
    "    def step(self, batch, dataset):\n",
    "        \"\"\"Effectue une étape.\n",
    "\n",
    "        Une étape consiste à passer d'un lot d'observations (l'argument batch)\n",
    "        à l'évaluation de la fonction de coût pour ce lot d'observations.\n",
    "\n",
    "        Parameters\n",
    "        ----------\n",
    "        batch : tuple\n",
    "            Un lot d'observations. Le premier élément du tuple est le lot\n",
    "            des entrées, le second est le lot des labels.\n",
    "            \n",
    "        dataset : {\"training\", \"validation\"}\n",
    "            Jeu de données utilisé.\n",
    "\n",
    "        Returns\n",
    "        -------\n",
    "        loss : Tensor, shape = (1,)\n",
    "            La fonction de coût pour ce lot d'observations.\n",
    "        \"\"\"\n",
    "        X, y = batch  # X correspond aux images, y aux classes\n",
    "        logits = self(X)  # Passe avant, qui renvoie les logits\n",
    "        loss = self.loss(logits, y)  # Évaluation de la fonction de coût\n",
    "        y_pred = logits.argmax(1)  # Prédictions du modèle\n",
    "        \n",
    "        if dataset == \"training\":\n",
    "            metric = self.accuracy_train\n",
    "            name = \"train\"\n",
    "            bar_step = True\n",
    "        else:\n",
    "            metric = self.accuracy_val\n",
    "            name = \"val\"\n",
    "            bar_step = False\n",
    "\n",
    "        acc = metric(y_pred, y)\n",
    "        self.log(f\"loss_{name}\", loss, prog_bar=bar_step, on_step=bar_step, on_epoch=True)\n",
    "        self.log(f\"accuracy_{name}\", acc, prog_bar=bar_step, on_step=bar_step, on_epoch=True)\n",
    "        \n",
    "        return loss\n",
    "    \n",
    "    def training_step(self, batch):\n",
    "        \"\"\"Effectue une étape d'entraînement.\"\"\"\n",
    "        return self.step(batch, \"training\")\n",
    "\n",
    "    def validation_step(self, batch):\n",
    "        \"\"\"Effectue une étape de validation.\"\"\"\n",
    "        return self.step(batch, \"validation\")\n",
    "    \n",
    "    def on_train_start(self):\n",
    "        \"\"\"Code exécuté au début de l'entraînement.\"\"\"\n",
    "        string = f\"Version {self.trainer.logger.version}\"\n",
    "        print(f\"{string}\\n{'=' * len(string)}\\n\")\n",
    "    \n",
    "    def on_train_epoch_end(self):\n",
    "        \"\"\"Code exécuté à la fin de chaque époque d'entraînement.\"\"\"\n",
    "        metrics = self.trainer.callback_metrics\n",
    "        string = (f\"\"\"\n",
    "            Époque {self.trainer.current_epoch + 1} / {self.trainer.max_epochs}\n",
    "            ------------------------------------------------\n",
    "            |     Jeu      | Fonction de perte | Précision |\n",
    "            | ------------ | ----------------- | --------- |\n",
    "            | Entraînement |{metrics['loss_train'].item():^19.5f}|{metrics['accuracy_train'].item():^11.3%}|\n",
    "            |  Validation  |{metrics['loss_val'].item():^19.5f}|{metrics['accuracy_val'].item():^11.3%}|\n",
    "            ------------------------------------------------\n",
    "        \"\"\")\n",
    "        string = '\\n'.join([line.strip() for line in string.split('\\n')])\n",
    "        print(string)\n",
    "\n",
    "    def configure_optimizers(self):\n",
    "        \"\"\"Configure l'algorithme d'optimisation à utiliser.\"\"\"\n",
    "        optimizer = torch.optim.Adam(self.parameters())\n",
    "        return optimizer"
   ]
  },
  {
   "cell_type": "markdown",
   "metadata": {},
   "source": [
    "### Exercice 10\n",
    "\n",
    "Affichez un résumé de cette architecture. Combien de paramètres entraînables a cette architecture ?"
   ]
  },
  {
   "cell_type": "code",
   "execution_count": 19,
   "metadata": {},
   "outputs": [
    {
     "data": {
      "text/plain": [
       "==========================================================================================\n",
       "Layer (type:depth-idx)                   Output Shape              Param #\n",
       "==========================================================================================\n",
       "LeNet5                                   [64, 26]                  --\n",
       "├─Sequential: 1-1                        [64, 26]                  --\n",
       "│    └─Conv2d: 2-1                       [64, 6, 28, 28]           156\n",
       "│    └─Sigmoid: 2-2                      [64, 6, 28, 28]           --\n",
       "│    └─MaxPool2d: 2-3                    [64, 6, 14, 14]           --\n",
       "│    └─Conv2d: 2-4                       [64, 16, 10, 10]          2,416\n",
       "│    └─Sigmoid: 2-5                      [64, 16, 10, 10]          --\n",
       "│    └─MaxPool2d: 2-6                    [64, 16, 5, 5]            --\n",
       "│    └─Flatten: 2-7                      [64, 400]                 --\n",
       "│    └─Linear: 2-8                       [64, 256]                 102,656\n",
       "│    └─Sigmoid: 2-9                      [64, 256]                 --\n",
       "│    └─Linear: 2-10                      [64, 128]                 32,896\n",
       "│    └─Sigmoid: 2-11                     [64, 128]                 --\n",
       "│    └─Linear: 2-12                      [64, 26]                  3,354\n",
       "==========================================================================================\n",
       "Total params: 141,478\n",
       "Trainable params: 141,478\n",
       "Non-trainable params: 0\n",
       "Total mult-adds (M): 32.18\n",
       "==========================================================================================\n",
       "Input size (MB): 0.20\n",
       "Forward/backward pass size (MB): 3.44\n",
       "Params size (MB): 0.57\n",
       "Estimated Total Size (MB): 4.20\n",
       "=========================================================================================="
      ]
     },
     "execution_count": 19,
     "metadata": {},
     "output_type": "execute_result"
    }
   ],
   "source": [
    "summary(LeNet5(), input_size=(64, 1, 28, 28))"
   ]
  },
  {
   "cell_type": "markdown",
   "metadata": {},
   "source": [
    "**Réponse** : Cette architecture a $141\\ 478$ paramètres entraînables."
   ]
  },
  {
   "cell_type": "markdown",
   "metadata": {},
   "source": [
    "### Exercice 11\n",
    "\n",
    "Entraînez votre nouveau réseau de neurones pendant 10 époques. Comparez sa performance à celle du modèle précédent."
   ]
  },
  {
   "cell_type": "code",
   "execution_count": 20,
   "metadata": {},
   "outputs": [
    {
     "data": {
      "application/vnd.jupyter.widget-view+json": {
       "model_id": "8d62ce35b9db44f5bd08f123f5d203e6",
       "version_major": 2,
       "version_minor": 0
      },
      "text/plain": [
       "Training: |                                               | 0/? [00:00<?, ?it/s]"
      ]
     },
     "metadata": {},
     "output_type": "display_data"
    },
    {
     "name": "stdout",
     "output_type": "stream",
     "text": [
      "Version 1\n",
      "=========\n",
      "\n"
     ]
    },
    {
     "data": {
      "application/vnd.jupyter.widget-view+json": {
       "model_id": "",
       "version_major": 2,
       "version_minor": 0
      },
      "text/plain": [
       "Validation: |                                             | 0/? [00:00<?, ?it/s]"
      ]
     },
     "metadata": {},
     "output_type": "display_data"
    },
    {
     "name": "stdout",
     "output_type": "stream",
     "text": [
      "\n",
      "Époque 1 / 10\n",
      "------------------------------------------------\n",
      "|     Jeu      | Fonction de perte | Précision |\n",
      "| ------------ | ----------------- | --------- |\n",
      "| Entraînement |      1.30201      |  62.178%  |\n",
      "|  Validation  |      0.50616      |  84.760%  |\n",
      "------------------------------------------------\n",
      "\n"
     ]
    },
    {
     "data": {
      "application/vnd.jupyter.widget-view+json": {
       "model_id": "",
       "version_major": 2,
       "version_minor": 0
      },
      "text/plain": [
       "Validation: |                                             | 0/? [00:00<?, ?it/s]"
      ]
     },
     "metadata": {},
     "output_type": "display_data"
    },
    {
     "name": "stdout",
     "output_type": "stream",
     "text": [
      "\n",
      "Époque 2 / 10\n",
      "------------------------------------------------\n",
      "|     Jeu      | Fonction de perte | Précision |\n",
      "| ------------ | ----------------- | --------- |\n",
      "| Entraînement |      0.38509      |  87.985%  |\n",
      "|  Validation  |      0.33898      |  89.308%  |\n",
      "------------------------------------------------\n",
      "\n"
     ]
    },
    {
     "data": {
      "application/vnd.jupyter.widget-view+json": {
       "model_id": "",
       "version_major": 2,
       "version_minor": 0
      },
      "text/plain": [
       "Validation: |                                             | 0/? [00:00<?, ?it/s]"
      ]
     },
     "metadata": {},
     "output_type": "display_data"
    },
    {
     "name": "stdout",
     "output_type": "stream",
     "text": [
      "\n",
      "Époque 3 / 10\n",
      "------------------------------------------------\n",
      "|     Jeu      | Fonction de perte | Précision |\n",
      "| ------------ | ----------------- | --------- |\n",
      "| Entraînement |      0.28694      |  90.706%  |\n",
      "|  Validation  |      0.28170      |  90.976%  |\n",
      "------------------------------------------------\n",
      "\n"
     ]
    },
    {
     "data": {
      "application/vnd.jupyter.widget-view+json": {
       "model_id": "",
       "version_major": 2,
       "version_minor": 0
      },
      "text/plain": [
       "Validation: |                                             | 0/? [00:00<?, ?it/s]"
      ]
     },
     "metadata": {},
     "output_type": "display_data"
    },
    {
     "name": "stdout",
     "output_type": "stream",
     "text": [
      "\n",
      "Époque 4 / 10\n",
      "------------------------------------------------\n",
      "|     Jeu      | Fonction de perte | Précision |\n",
      "| ------------ | ----------------- | --------- |\n",
      "| Entraînement |      0.24454      |  91.952%  |\n",
      "|  Validation  |      0.25990      |  91.486%  |\n",
      "------------------------------------------------\n",
      "\n"
     ]
    },
    {
     "data": {
      "application/vnd.jupyter.widget-view+json": {
       "model_id": "",
       "version_major": 2,
       "version_minor": 0
      },
      "text/plain": [
       "Validation: |                                             | 0/? [00:00<?, ?it/s]"
      ]
     },
     "metadata": {},
     "output_type": "display_data"
    },
    {
     "name": "stdout",
     "output_type": "stream",
     "text": [
      "\n",
      "Époque 5 / 10\n",
      "------------------------------------------------\n",
      "|     Jeu      | Fonction de perte | Précision |\n",
      "| ------------ | ----------------- | --------- |\n",
      "| Entraînement |      0.21906      |  92.640%  |\n",
      "|  Validation  |      0.25427      |  91.678%  |\n",
      "------------------------------------------------\n",
      "\n"
     ]
    },
    {
     "data": {
      "application/vnd.jupyter.widget-view+json": {
       "model_id": "",
       "version_major": 2,
       "version_minor": 0
      },
      "text/plain": [
       "Validation: |                                             | 0/? [00:00<?, ?it/s]"
      ]
     },
     "metadata": {},
     "output_type": "display_data"
    },
    {
     "name": "stdout",
     "output_type": "stream",
     "text": [
      "\n",
      "Époque 6 / 10\n",
      "------------------------------------------------\n",
      "|     Jeu      | Fonction de perte | Précision |\n",
      "| ------------ | ----------------- | --------- |\n",
      "| Entraînement |      0.20124      |  93.191%  |\n",
      "|  Validation  |      0.23048      |  92.423%  |\n",
      "------------------------------------------------\n",
      "\n"
     ]
    },
    {
     "data": {
      "application/vnd.jupyter.widget-view+json": {
       "model_id": "",
       "version_major": 2,
       "version_minor": 0
      },
      "text/plain": [
       "Validation: |                                             | 0/? [00:00<?, ?it/s]"
      ]
     },
     "metadata": {},
     "output_type": "display_data"
    },
    {
     "name": "stdout",
     "output_type": "stream",
     "text": [
      "\n",
      "Époque 7 / 10\n",
      "------------------------------------------------\n",
      "|     Jeu      | Fonction de perte | Précision |\n",
      "| ------------ | ----------------- | --------- |\n",
      "| Entraînement |      0.18589      |  93.675%  |\n",
      "|  Validation  |      0.21891      |  92.817%  |\n",
      "------------------------------------------------\n",
      "\n"
     ]
    },
    {
     "data": {
      "application/vnd.jupyter.widget-view+json": {
       "model_id": "",
       "version_major": 2,
       "version_minor": 0
      },
      "text/plain": [
       "Validation: |                                             | 0/? [00:00<?, ?it/s]"
      ]
     },
     "metadata": {},
     "output_type": "display_data"
    },
    {
     "name": "stdout",
     "output_type": "stream",
     "text": [
      "\n",
      "Époque 8 / 10\n",
      "------------------------------------------------\n",
      "|     Jeu      | Fonction de perte | Précision |\n",
      "| ------------ | ----------------- | --------- |\n",
      "| Entraînement |      0.17415      |  94.006%  |\n",
      "|  Validation  |      0.21786      |  92.822%  |\n",
      "------------------------------------------------\n",
      "\n"
     ]
    },
    {
     "data": {
      "application/vnd.jupyter.widget-view+json": {
       "model_id": "",
       "version_major": 2,
       "version_minor": 0
      },
      "text/plain": [
       "Validation: |                                             | 0/? [00:00<?, ?it/s]"
      ]
     },
     "metadata": {},
     "output_type": "display_data"
    },
    {
     "name": "stdout",
     "output_type": "stream",
     "text": [
      "\n",
      "Époque 9 / 10\n",
      "------------------------------------------------\n",
      "|     Jeu      | Fonction de perte | Précision |\n",
      "| ------------ | ----------------- | --------- |\n",
      "| Entraînement |      0.16466      |  94.300%  |\n",
      "|  Validation  |      0.21949      |  92.687%  |\n",
      "------------------------------------------------\n",
      "\n"
     ]
    },
    {
     "data": {
      "application/vnd.jupyter.widget-view+json": {
       "model_id": "",
       "version_major": 2,
       "version_minor": 0
      },
      "text/plain": [
       "Validation: |                                             | 0/? [00:00<?, ?it/s]"
      ]
     },
     "metadata": {},
     "output_type": "display_data"
    },
    {
     "name": "stdout",
     "output_type": "stream",
     "text": [
      "\n",
      "Époque 10 / 10\n",
      "------------------------------------------------\n",
      "|     Jeu      | Fonction de perte | Précision |\n",
      "| ------------ | ----------------- | --------- |\n",
      "| Entraînement |      0.15428      |  94.588%  |\n",
      "|  Validation  |      0.23058      |  92.418%  |\n",
      "------------------------------------------------\n",
      "\n"
     ]
    }
   ],
   "source": [
    "model_lenet = LeNet5()\n",
    "\n",
    "trainer_lenet = L.Trainer(\n",
    "    max_epochs=10,\n",
    "    enable_model_summary=False,  # supprimer le résumé du modèle\n",
    "    logger=CSVLogger('.'),  # sauvegarder les résultats dans un fichier CSV\n",
    "    num_sanity_val_steps=0,  # ne pas effectuer d'étape de validation avant l'entraînement\n",
    "    callbacks=[TQDMProgressBar(refresh_rate=100)]  # mettre à jour la barre de progression tous les 100 lots\n",
    ")\n",
    "\n",
    "trainer_lenet.fit(\n",
    "    model=model_lenet,\n",
    "    train_dataloaders=dataloader_train,\n",
    "    val_dataloaders=dataloader_val\n",
    ")"
   ]
  },
  {
   "cell_type": "code",
   "execution_count": 21,
   "metadata": {},
   "outputs": [
    {
     "data": {
      "image/png": "[encoded data removed]",
      "text/plain": [
       "<Figure size 1300x400 with 2 Axes>"
      ]
     },
     "metadata": {},
     "output_type": "display_data"
    }
   ],
   "source": [
    "plot_loss_accuracy()"
   ]
  },
  {
   "cell_type": "markdown",
   "metadata": {},
   "source": [
    "**Réponse** : La performance de ce modèle, qui est plus complexe ($141\\ 478$ paramètres entraînables contre $50\\ 994$ pour l'autre), est bien meilleure."
   ]
  }
 ],
 "metadata": {
  "kernelspec": {
   "display_name": "Python 3 (ipykernel)",
   "language": "python",
   "name": "python3"
  },
  "language_info": {
   "codemirror_mode": {
    "name": "ipython",
    "version": 3
   },
   "file_extension": ".py",
   "mimetype": "text/x-python",
   "name": "python",
   "nbconvert_exporter": "python",
   "pygments_lexer": "ipython3",
   "version": "3.10.13"
  }
 },
 "nbformat": 4,
 "nbformat_minor": 4
}
