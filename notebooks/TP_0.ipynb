{
  "nbformat": 4,
  "nbformat_minor": 0,
  "metadata": {
    "colab": {
      "provenance": []
    },
    "kernelspec": {
      "name": "python3",
      "display_name": "Python 3"
    },
    "language_info": {
      "name": "python"
    }
  },
  "cells": [
    {
      "cell_type": "markdown",
      "source": [
        "# Rappel sur les notebooks et la programmation orientée objet en Python\n",
        "\n",
        "Ce notebook a pour objectif de vous refamiliariser, si nécessaire, avec la programmation orientée objet en Python.\n",
        "\n",
        "La brique principale d'un notebook est ses **cellules**.\n",
        "Sur Colab, il y a deux types de cellules : les cellules de code et les cellules de texte.\n",
        "Vous pouvez ajouter une nouvelle cellule en plaçant la flèche de la souris entre deux cellules puis en cliquant sur `+ Code` ou `+ Texte` en fonction du type de cellule souhaité.\n",
        "Une cellule s'exécute avec la commande `Maj+Entrée`.\n",
        "\n",
        "La programmation orientée objet permet de créer des objets qui ont des caractéristiques (appelées **attributs**) et des fonctionnalités (appelées **méthodes**) qui sont propres à leur type d'objets, appelée **classe**.\n",
        "\n",
        "La cellule ci-dessous définit une classe appelée `Fraction` qui a :\n",
        "* comme attributs : `num` et `denom`\n",
        "* comme méthodes : `__init__()` et `add()`"
      ],
      "metadata": {
        "id": "TsSsRYZt8b7b"
      }
    },
    {
      "cell_type": "code",
      "execution_count": null,
      "metadata": {
        "id": "ZWn_Mq3x8QT8"
      },
      "outputs": [],
      "source": [
        "class Frac:\n",
        "    \"\"\"Une fraction avec un numérateur et un dénominateur.\"\"\"\n",
        "    def __init__(self, num, denom):\n",
        "        self.num = num\n",
        "        self.denom = denom\n",
        "\n",
        "    def add(self, f):\n",
        "        numerateur = self.num * f.denom + f.num * self.denom\n",
        "        denominateur = self.denom * f.denom\n",
        "        return Frac(numerateur, denominateur)"
      ]
    },
    {
      "cell_type": "markdown",
      "source": [
        "On remarquera que :\n",
        "* le mot clé pour définir une classe est `class`,\n",
        "* la méthode pour créer des objets, c'est-à-dire le constructeur, est la méthode spéciale `__init__()`,\n",
        "* les attributs `num` et `denom` sont définis dans le constructeur avec le code `self.num = num` et `self.denom = denom`, grâce aux arguments fournis au constructeur `num` et `denom`,\n",
        "* la méthode `add()` permet d'ajouter une fraction à une autre.\n",
        "\n",
        "Testons les fonctionnalités de notre classe."
      ],
      "metadata": {
        "id": "1RtNS8U6_uxT"
      }
    },
    {
      "cell_type": "code",
      "source": [
        "f1 = Frac(1, 3)\n",
        "f2 = Frac(7, 13)\n",
        "f1.add(f2)"
      ],
      "metadata": {
        "colab": {
          "base_uri": "https://localhost:8080/"
        },
        "id": "-wN68RMj8Rvo",
        "outputId": "906e1957-5c3d-488c-f929-d5cbbb46b6d8"
      },
      "execution_count": null,
      "outputs": [
        {
          "output_type": "execute_result",
          "data": {
            "text/plain": [
              "<__main__.Frac at 0x7fe59a04bee0>"
            ]
          },
          "metadata": {},
          "execution_count": 4
        }
      ]
    },
    {
      "cell_type": "markdown",
      "source": [
        "On a créé deux objets de la classe `Frac` avec des valeurs différentes pour les arguments `num` et `denom`. On a pu ajouter la deuxième fraction à la première, mais le résultat affiché n'est pas très parlant. C'est parce que avoir un objet comme dernière ligne de code dans une cellule renvoie la représentation officielle de cet objet, et que nous n'avons pas redéfini cette méthode.\n",
        "\n",
        "Essayons de faire la somme des deux fractions avec la syntaxe qu'on utiliserait pour sommer des entiers ou des nombres flottants."
      ],
      "metadata": {
        "id": "vFSEgUw_8U0H"
      }
    },
    {
      "cell_type": "code",
      "source": [
        "f1 + f2"
      ],
      "metadata": {
        "colab": {
          "base_uri": "https://localhost:8080/",
          "height": 139
        },
        "id": "VWRfZXd5_t0C",
        "outputId": "f16c96cd-a311-4192-e650-f0a4abc77753"
      },
      "execution_count": null,
      "outputs": [
        {
          "output_type": "error",
          "ename": "TypeError",
          "evalue": "unsupported operand type(s) for +: 'Frac' and 'Frac'",
          "traceback": [
            "\u001b[0;31m---------------------------------------------------------------------------\u001b[0m",
            "\u001b[0;31mTypeError\u001b[0m                                 Traceback (most recent call last)",
            "\u001b[0;32m<ipython-input-5-ad0256b81ae0>\u001b[0m in \u001b[0;36m<cell line: 1>\u001b[0;34m()\u001b[0m\n\u001b[0;32m----> 1\u001b[0;31m \u001b[0mf1\u001b[0m \u001b[0;34m+\u001b[0m \u001b[0mf2\u001b[0m\u001b[0;34m\u001b[0m\u001b[0;34m\u001b[0m\u001b[0m\n\u001b[0m",
            "\u001b[0;31mTypeError\u001b[0m: unsupported operand type(s) for +: 'Frac' and 'Frac'"
          ]
        }
      ]
    },
    {
      "cell_type": "markdown",
      "source": [
        "Une erreur est levée, indiquant que l'opération `+` entre un objet `Frac` et un autre objet `Frac` n'est pas définie. En effet, pour utiliser la syntaxe usuelle des opérations mathématiques, il faut définir les méthodes spéciales correspondantes. Par exemple :\n",
        "* `__add__()` définit l'addition : `+`\n",
        "* `__sub__()` définit la soustraction : `-`\n",
        "* `__neg__()` définit la négation : `-`\n",
        "* `__mul__()` définit la multiplication : `*`\n",
        "* `__truediv__()` définit la division : `/`\n",
        "\n",
        "Il existe également des méthodes spéciales sans lien avec les opérations mathématiques, telles que :\n",
        "* `__str__()` définit la représentation informelle, utilisée notamment par `print()` et `str()`,\n",
        "* `__repr__()` définit la représentation officielle, utilisée notamment par `repr()`,\n",
        "* `__len__()` définit la longueur, utilisée par `len()`.\n",
        "\n",
        "Voici une nouvelle version de la classe `Frac` avec davantage de fonctionnalités :"
      ],
      "metadata": {
        "id": "PVmcONUmBqXd"
      }
    },
    {
      "cell_type": "code",
      "source": [
        "import math\n",
        "\n",
        "\n",
        "class Frac:\n",
        "    \"\"\"Une fraction avec un numérateur et un dénominateur.\"\"\"\n",
        "    def __init__(self, num, denom):\n",
        "        self.num = num\n",
        "        self.denom = denom\n",
        "        self.gcd = math.gcd(num, denom)\n",
        "\n",
        "    def __add__(self, other):\n",
        "        if isinstance(other, Frac):\n",
        "            num = self.num * other.denom + other.num * self.denom\n",
        "            denom = self.denom * other.denom\n",
        "            return Frac(num, denom)\n",
        "        else:\n",
        "            raise NotImplementedError()\n",
        "\n",
        "    def __neg__(self):\n",
        "        return Frac(-self.num, self.denom)\n",
        "\n",
        "    def __sub__(self, other):\n",
        "        if isinstance(other, Frac):\n",
        "            return self + -other\n",
        "        else:\n",
        "            raise NotImplementedError()\n",
        "\n",
        "    def __mul__(self, other):\n",
        "        if isinstance(other, Frac):\n",
        "            return Frac(self.num * other.num, self.denom * other.denom)\n",
        "        else:\n",
        "            raise NotImplementedError()\n",
        "\n",
        "    def __str__(self):\n",
        "        return f\"{self.num} / {self.denom}\"\n",
        "\n",
        "    def __repr__(self):\n",
        "        return f\"Frac({self.num}, {self.denom})\"\n",
        "\n",
        "    def simplifier(self):\n",
        "        return Frac(self.num // self.gcd, self.denom // self.gcd)"
      ],
      "metadata": {
        "id": "3jMo0yrtBozJ"
      },
      "execution_count": null,
      "outputs": []
    },
    {
      "cell_type": "code",
      "source": [
        "f1 = Frac(3, 9)\n",
        "f2 = Frac(2, 12)"
      ],
      "metadata": {
        "id": "XqM_TXGCGOM5"
      },
      "execution_count": null,
      "outputs": []
    },
    {
      "cell_type": "code",
      "source": [
        "f1 + f2"
      ],
      "metadata": {
        "colab": {
          "base_uri": "https://localhost:8080/"
        },
        "id": "N1puhc_kGU1_",
        "outputId": "5bee14f7-d7c7-4da6-d0d9-ce9fb6a11f51"
      },
      "execution_count": null,
      "outputs": [
        {
          "output_type": "execute_result",
          "data": {
            "text/plain": [
              "Frac(54, 108)"
            ]
          },
          "metadata": {},
          "execution_count": 13
        }
      ]
    },
    {
      "cell_type": "code",
      "source": [
        "(f1 + f2).simplifier()"
      ],
      "metadata": {
        "colab": {
          "base_uri": "https://localhost:8080/"
        },
        "id": "4qYKHb7bGVe6",
        "outputId": "f5cc6410-fe67-4032-ac75-ca589c0f4284"
      },
      "execution_count": null,
      "outputs": [
        {
          "output_type": "execute_result",
          "data": {
            "text/plain": [
              "Frac(1, 2)"
            ]
          },
          "metadata": {},
          "execution_count": 14
        }
      ]
    },
    {
      "cell_type": "code",
      "source": [
        "print(f1 - f2)"
      ],
      "metadata": {
        "colab": {
          "base_uri": "https://localhost:8080/"
        },
        "id": "2Xw0PP_kGX-8",
        "outputId": "3181748e-561c-4389-cfe7-908e7ec8ed3a"
      },
      "execution_count": null,
      "outputs": [
        {
          "output_type": "stream",
          "name": "stdout",
          "text": [
            "18 / 108\n"
          ]
        }
      ]
    },
    {
      "cell_type": "markdown",
      "source": [
        "On remarquera qu'on peut définir davantage d'attributs dans le constructeur que les arguments fournis. Ici, on calcule le plus grand diviseur commun (`gcd`) entre le numérateur et le dénominateur dans le constructeur, ce qui nous permet de l'utiliser dans la méthode `simplifier()`."
      ],
      "metadata": {
        "id": "EEthCyngGhcl"
      }
    }
  ]
}